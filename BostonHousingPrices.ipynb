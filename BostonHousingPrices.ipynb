{
  "nbformat": 4,
  "nbformat_minor": 0,
  "metadata": {
    "colab": {
      "name": "BostonHousingPrices.ipynb",
      "provenance": [],
      "include_colab_link": true
    },
    "kernelspec": {
      "name": "python3",
      "display_name": "Python 3"
    },
    "language_info": {
      "name": "python"
    }
  },
  "cells": [
    {
      "cell_type": "markdown",
      "metadata": {
        "id": "view-in-github",
        "colab_type": "text"
      },
      "source": [
        "<a href=\"https://colab.research.google.com/github/AbhirKarande/AbhirKarande/blob/main/BostonHousingPrices.ipynb\" target=\"_parent\"><img src=\"https://colab.research.google.com/assets/colab-badge.svg\" alt=\"Open In Colab\"/></a>"
      ]
    },
    {
      "cell_type": "markdown",
      "metadata": {
        "id": "-Y4F-zuUGsq8"
      },
      "source": [
        "# Assignment 1: Comparison of Regression Models on Housing Prices in Boston, MA"
      ]
    },
    {
      "cell_type": "markdown",
      "metadata": {
        "id": "MZ85ee69G7m0"
      },
      "source": [
        "### CS 2501 Machine Learning - Department of Computer Science - University of Virginia\n",
        "![(Image Credit Boston.gov)](https://www.boston.gov/sites/default/files/img/topic/intro_images/2017/06/housing1.jpg)\n",
        "In this assignment, you will practice the 8 steps of an end-to-end ML project in the context of a **regression** problem in the [Boston Housing Dataset on Kaggle](https://www.kaggle.com/vikrishnan/boston-house-prices) (Image Credit: Boston.gov). You will attempt to predict the housing prices in the Boston Metropolitian Area. The data was collected in the 70s, so the housing prices were much lower than it is today. For references, you may refer to my slides or the Google Colab if you need additional sample codes to help with your assignment. To get started, you will need to upload/copy the dataset (.csv) into the same Colab workspace. \n",
        "\n",
        "For deliverables, you must write code in Colab and submit the downloaded Jupyter Notebook file (.ipynb) to earn a total of 150 pts. You will gain points depending on how you perform in the following sections."
      ]
    },
    {
      "cell_type": "markdown",
      "metadata": {
        "id": "nXPheacSXZ2V"
      },
      "source": [
        "## Step 1: Big Picture and Setup\n",
        "Write a paragraph explaining the context of the problem in which you are trying to investigate. Your paragraph may frame the problem and objectives by answering the following questions:\n",
        "* What is the task: regression, classification, clustering, visualization?\n",
        "* What to expect, use, and benefit from this model?\n",
        "* What performance measure to evaluate?\n",
        "* How much data is available or to be collected?\n",
        "* What learning algorithm to be used?\n",
        "* How much effort to be spent?\n",
        "* Verify the assumptions that have been made about the context"
      ]
    },
    {
      "cell_type": "code",
      "metadata": {
        "id": "h8pOh7rLSJNu"
      },
      "source": [
        "import numpy as np\n",
        "import pandas as pd\n",
        "\n",
        "np.random.seed(42)"
      ],
      "execution_count": null,
      "outputs": []
    },
    {
      "cell_type": "markdown",
      "metadata": {
        "id": "A3N7qDVRXuNa"
      },
      "source": [
        "## Step 2: Load the Data\n",
        "We will assume that the data file is put into the same workspace on Colab. Then, you can write some code to load the CSV file and take a quick look at the dataset, and output the following:\n",
        "\n",
        " * How big is your dataset? (in terms of MB)\n",
        " * How many entries does it have?\n",
        " * How many features does it have?\n",
        " * Does it contain any categorical data?\n",
        " * Is there any missing value?\n",
        " * What are some basic statistics you can learn right away about this dataset?"
      ]
    },
    {
      "cell_type": "code",
      "metadata": {
        "id": "3Y4uclsoGRcM"
      },
      "source": [
        "# To help you get started, a load function is provided below. \n",
        "# You will need to fill in the code under #TODO to make it work.\n",
        "def loadBostonHousingData():\n",
        "  # The column names are adopted from the dataset page on Kaggle   \n",
        "  columns = ['CRIM', 'ZN', 'INDUS', 'CHAS', 'NOX', 'RM', 'AGE', 'DIS', 'RAD', 'TAX', 'PTRATIO', 'B', 'LSTAT', 'MEDV']\n",
        "  housing = pd.read_csv('housing.csv', names=columns, delim_whitespace=True)\n",
        "  return housing\n",
        "housing = loadBostonHousingData()\n",
        "# Call the function to load your dataset here"
      ],
      "execution_count": null,
      "outputs": []
    },
    {
      "cell_type": "markdown",
      "metadata": {
        "id": "j5cT4JBSYOS6"
      },
      "source": [
        "## Step 3. Discover and visualize the data to gain insights\n",
        "**Data Discover:** Plot out all correlations among the features. You should notice some features are more correlated with your predicted value than other. This information will help you confirm that weights of your regression model later on."
      ]
    },
    {
      "cell_type": "code",
      "metadata": {
        "id": "HqfralxMGqCt",
        "colab": {
          "base_uri": "https://localhost:8080/",
          "height": 363
        },
        "outputId": "fe4aa704-8bb2-42cc-d627-325f29807f95"
      },
      "source": [
        "housing.head(10)"
      ],
      "execution_count": null,
      "outputs": [
        {
          "output_type": "execute_result",
          "data": {
            "text/html": [
              "<div>\n",
              "<style scoped>\n",
              "    .dataframe tbody tr th:only-of-type {\n",
              "        vertical-align: middle;\n",
              "    }\n",
              "\n",
              "    .dataframe tbody tr th {\n",
              "        vertical-align: top;\n",
              "    }\n",
              "\n",
              "    .dataframe thead th {\n",
              "        text-align: right;\n",
              "    }\n",
              "</style>\n",
              "<table border=\"1\" class=\"dataframe\">\n",
              "  <thead>\n",
              "    <tr style=\"text-align: right;\">\n",
              "      <th></th>\n",
              "      <th>CRIM</th>\n",
              "      <th>ZN</th>\n",
              "      <th>INDUS</th>\n",
              "      <th>CHAS</th>\n",
              "      <th>NOX</th>\n",
              "      <th>RM</th>\n",
              "      <th>AGE</th>\n",
              "      <th>DIS</th>\n",
              "      <th>RAD</th>\n",
              "      <th>TAX</th>\n",
              "      <th>PTRATIO</th>\n",
              "      <th>B</th>\n",
              "      <th>LSTAT</th>\n",
              "      <th>MEDV</th>\n",
              "    </tr>\n",
              "  </thead>\n",
              "  <tbody>\n",
              "    <tr>\n",
              "      <th>0</th>\n",
              "      <td>0.00632</td>\n",
              "      <td>18.0</td>\n",
              "      <td>2.31</td>\n",
              "      <td>0</td>\n",
              "      <td>0.538</td>\n",
              "      <td>6.575</td>\n",
              "      <td>65.2</td>\n",
              "      <td>4.0900</td>\n",
              "      <td>1</td>\n",
              "      <td>296.0</td>\n",
              "      <td>15.3</td>\n",
              "      <td>396.90</td>\n",
              "      <td>4.98</td>\n",
              "      <td>24.0</td>\n",
              "    </tr>\n",
              "    <tr>\n",
              "      <th>1</th>\n",
              "      <td>0.02731</td>\n",
              "      <td>0.0</td>\n",
              "      <td>7.07</td>\n",
              "      <td>0</td>\n",
              "      <td>0.469</td>\n",
              "      <td>6.421</td>\n",
              "      <td>78.9</td>\n",
              "      <td>4.9671</td>\n",
              "      <td>2</td>\n",
              "      <td>242.0</td>\n",
              "      <td>17.8</td>\n",
              "      <td>396.90</td>\n",
              "      <td>9.14</td>\n",
              "      <td>21.6</td>\n",
              "    </tr>\n",
              "    <tr>\n",
              "      <th>2</th>\n",
              "      <td>0.02729</td>\n",
              "      <td>0.0</td>\n",
              "      <td>7.07</td>\n",
              "      <td>0</td>\n",
              "      <td>0.469</td>\n",
              "      <td>7.185</td>\n",
              "      <td>61.1</td>\n",
              "      <td>4.9671</td>\n",
              "      <td>2</td>\n",
              "      <td>242.0</td>\n",
              "      <td>17.8</td>\n",
              "      <td>392.83</td>\n",
              "      <td>4.03</td>\n",
              "      <td>34.7</td>\n",
              "    </tr>\n",
              "    <tr>\n",
              "      <th>3</th>\n",
              "      <td>0.03237</td>\n",
              "      <td>0.0</td>\n",
              "      <td>2.18</td>\n",
              "      <td>0</td>\n",
              "      <td>0.458</td>\n",
              "      <td>6.998</td>\n",
              "      <td>45.8</td>\n",
              "      <td>6.0622</td>\n",
              "      <td>3</td>\n",
              "      <td>222.0</td>\n",
              "      <td>18.7</td>\n",
              "      <td>394.63</td>\n",
              "      <td>2.94</td>\n",
              "      <td>33.4</td>\n",
              "    </tr>\n",
              "    <tr>\n",
              "      <th>4</th>\n",
              "      <td>0.06905</td>\n",
              "      <td>0.0</td>\n",
              "      <td>2.18</td>\n",
              "      <td>0</td>\n",
              "      <td>0.458</td>\n",
              "      <td>7.147</td>\n",
              "      <td>54.2</td>\n",
              "      <td>6.0622</td>\n",
              "      <td>3</td>\n",
              "      <td>222.0</td>\n",
              "      <td>18.7</td>\n",
              "      <td>396.90</td>\n",
              "      <td>5.33</td>\n",
              "      <td>36.2</td>\n",
              "    </tr>\n",
              "    <tr>\n",
              "      <th>5</th>\n",
              "      <td>0.02985</td>\n",
              "      <td>0.0</td>\n",
              "      <td>2.18</td>\n",
              "      <td>0</td>\n",
              "      <td>0.458</td>\n",
              "      <td>6.430</td>\n",
              "      <td>58.7</td>\n",
              "      <td>6.0622</td>\n",
              "      <td>3</td>\n",
              "      <td>222.0</td>\n",
              "      <td>18.7</td>\n",
              "      <td>394.12</td>\n",
              "      <td>5.21</td>\n",
              "      <td>28.7</td>\n",
              "    </tr>\n",
              "    <tr>\n",
              "      <th>6</th>\n",
              "      <td>0.08829</td>\n",
              "      <td>12.5</td>\n",
              "      <td>7.87</td>\n",
              "      <td>0</td>\n",
              "      <td>0.524</td>\n",
              "      <td>6.012</td>\n",
              "      <td>66.6</td>\n",
              "      <td>5.5605</td>\n",
              "      <td>5</td>\n",
              "      <td>311.0</td>\n",
              "      <td>15.2</td>\n",
              "      <td>395.60</td>\n",
              "      <td>12.43</td>\n",
              "      <td>22.9</td>\n",
              "    </tr>\n",
              "    <tr>\n",
              "      <th>7</th>\n",
              "      <td>0.14455</td>\n",
              "      <td>12.5</td>\n",
              "      <td>7.87</td>\n",
              "      <td>0</td>\n",
              "      <td>0.524</td>\n",
              "      <td>6.172</td>\n",
              "      <td>96.1</td>\n",
              "      <td>5.9505</td>\n",
              "      <td>5</td>\n",
              "      <td>311.0</td>\n",
              "      <td>15.2</td>\n",
              "      <td>396.90</td>\n",
              "      <td>19.15</td>\n",
              "      <td>27.1</td>\n",
              "    </tr>\n",
              "    <tr>\n",
              "      <th>8</th>\n",
              "      <td>0.21124</td>\n",
              "      <td>12.5</td>\n",
              "      <td>7.87</td>\n",
              "      <td>0</td>\n",
              "      <td>0.524</td>\n",
              "      <td>5.631</td>\n",
              "      <td>100.0</td>\n",
              "      <td>6.0821</td>\n",
              "      <td>5</td>\n",
              "      <td>311.0</td>\n",
              "      <td>15.2</td>\n",
              "      <td>386.63</td>\n",
              "      <td>29.93</td>\n",
              "      <td>16.5</td>\n",
              "    </tr>\n",
              "    <tr>\n",
              "      <th>9</th>\n",
              "      <td>0.17004</td>\n",
              "      <td>12.5</td>\n",
              "      <td>7.87</td>\n",
              "      <td>0</td>\n",
              "      <td>0.524</td>\n",
              "      <td>6.004</td>\n",
              "      <td>85.9</td>\n",
              "      <td>6.5921</td>\n",
              "      <td>5</td>\n",
              "      <td>311.0</td>\n",
              "      <td>15.2</td>\n",
              "      <td>386.71</td>\n",
              "      <td>17.10</td>\n",
              "      <td>18.9</td>\n",
              "    </tr>\n",
              "  </tbody>\n",
              "</table>\n",
              "</div>"
            ],
            "text/plain": [
              "      CRIM    ZN  INDUS  CHAS    NOX  ...    TAX  PTRATIO       B  LSTAT  MEDV\n",
              "0  0.00632  18.0   2.31     0  0.538  ...  296.0     15.3  396.90   4.98  24.0\n",
              "1  0.02731   0.0   7.07     0  0.469  ...  242.0     17.8  396.90   9.14  21.6\n",
              "2  0.02729   0.0   7.07     0  0.469  ...  242.0     17.8  392.83   4.03  34.7\n",
              "3  0.03237   0.0   2.18     0  0.458  ...  222.0     18.7  394.63   2.94  33.4\n",
              "4  0.06905   0.0   2.18     0  0.458  ...  222.0     18.7  396.90   5.33  36.2\n",
              "5  0.02985   0.0   2.18     0  0.458  ...  222.0     18.7  394.12   5.21  28.7\n",
              "6  0.08829  12.5   7.87     0  0.524  ...  311.0     15.2  395.60  12.43  22.9\n",
              "7  0.14455  12.5   7.87     0  0.524  ...  311.0     15.2  396.90  19.15  27.1\n",
              "8  0.21124  12.5   7.87     0  0.524  ...  311.0     15.2  386.63  29.93  16.5\n",
              "9  0.17004  12.5   7.87     0  0.524  ...  311.0     15.2  386.71  17.10  18.9\n",
              "\n",
              "[10 rows x 14 columns]"
            ]
          },
          "metadata": {},
          "execution_count": 5
        }
      ]
    },
    {
      "cell_type": "code",
      "metadata": {
        "colab": {
          "base_uri": "https://localhost:8080/",
          "height": 878
        },
        "id": "bj3w-oy4T8yW",
        "outputId": "8f5bd528-07b4-44a7-81ae-00dfa4162f86"
      },
      "source": [
        "import matplotlib.pyplot as plt\n",
        "housing.hist(bins=50, figsize=(20,15))\n",
        "plt.show()"
      ],
      "execution_count": null,
      "outputs": [
        {
          "output_type": "display_data",
          "data": {
            "image/png": "[encoded data removed]",
            "text/plain": [
              "<Figure size 1440x1080 with 16 Axes>"
            ]
          },
          "metadata": {
            "needs_background": "light"
          }
        }
      ]
    },
    {
      "cell_type": "code",
      "metadata": {
        "colab": {
          "base_uri": "https://localhost:8080/"
        },
        "id": "VjjdwfvaYWZP",
        "outputId": "113e122e-842f-4677-a58f-0e4ffb317db0"
      },
      "source": [
        "print(housing.shape)"
      ],
      "execution_count": null,
      "outputs": [
        {
          "output_type": "stream",
          "name": "stdout",
          "text": [
            "(506, 14)\n"
          ]
        }
      ]
    },
    {
      "cell_type": "code",
      "metadata": {
        "colab": {
          "base_uri": "https://localhost:8080/",
          "height": 285
        },
        "id": "i2nrJikxd34J",
        "outputId": "917ec6d4-2481-4abb-d44f-b7ea2e85a4e5"
      },
      "source": [
        "housing['MEDV'].hist()"
      ],
      "execution_count": null,
      "outputs": [
        {
          "output_type": "execute_result",
          "data": {
            "text/plain": [
              "<matplotlib.axes._subplots.AxesSubplot at 0x7ff274562210>"
            ]
          },
          "metadata": {},
          "execution_count": 8
        },
        {
          "output_type": "display_data",
          "data": {
            "image/png": "[encoded data removed]",
            "text/plain": [
              "<Figure size 432x288 with 1 Axes>"
            ]
          },
          "metadata": {
            "needs_background": "light"
          }
        }
      ]
    },
    {
      "cell_type": "code",
      "metadata": {
        "colab": {
          "base_uri": "https://localhost:8080/"
        },
        "id": "3bZwbZxhx7ac",
        "outputId": "06db24dc-bbe2-4495-8bb5-2e5e0fd17efb"
      },
      "source": [
        "corr_matrix = housing.corr()\n",
        "corr_matrix.shape\n",
        "corr_matrix['MEDV'].sort_values(ascending=False)"
      ],
      "execution_count": null,
      "outputs": [
        {
          "output_type": "execute_result",
          "data": {
            "text/plain": [
              "MEDV       1.000000\n",
              "RM         0.695360\n",
              "ZN         0.360445\n",
              "B          0.333461\n",
              "DIS        0.249929\n",
              "CHAS       0.175260\n",
              "AGE       -0.376955\n",
              "RAD       -0.381626\n",
              "CRIM      -0.388305\n",
              "NOX       -0.427321\n",
              "TAX       -0.468536\n",
              "INDUS     -0.483725\n",
              "PTRATIO   -0.507787\n",
              "LSTAT     -0.737663\n",
              "Name: MEDV, dtype: float64"
            ]
          },
          "metadata": {},
          "execution_count": 9
        }
      ]
    },
    {
      "cell_type": "markdown",
      "metadata": {
        "id": "LqfH4lEFyYCA"
      },
      "source": [
        "RM, LSTAT, and PTRATIO are the variables that seem to have the most impact on MEDV. "
      ]
    },
    {
      "cell_type": "markdown",
      "metadata": {
        "id": "Hr8UHps5Z0cF"
      },
      "source": [
        "##  Step 4: Data Preparation and Cleaning\n",
        "You have to split the data into training set, validation set, and test set. You may use the `train_test_split()` function *twice*: first is to split into train and set, then to split the train again into training and validation sets.\n",
        "\n",
        "Next, you need to construct the following:\n",
        "\n",
        "* **Data Cleaning:** If your dataset has some missing values, make sure you are able to fill those values with the `Imputer` class. \n",
        "\n",
        "* **Feature Scaling:** Your task is to call the `StandardScaler` to normalize the value of each features.\n",
        "\n",
        "* **Transformation Pipeline:** More importantly, you will need to integrate the above operations into a `Pipeline` to process and transform the training data (via `fit_transform()`), then use the same pipeline to transform any validation and testing data (using `transform()` only)."
      ]
    },
    {
      "cell_type": "code",
      "metadata": {
        "id": "ju-kzr0LaFb_"
      },
      "source": [
        "from sklearn.model_selection import train_test_split\n",
        "train_set, validation_set = train_test_split(housing, test_size=0.2, random_state=42)\n"
      ],
      "execution_count": null,
      "outputs": []
    },
    {
      "cell_type": "code",
      "metadata": {
        "id": "_cIIHdapRWGx"
      },
      "source": [
        "X_train = train_set.drop(\"MEDV\", axis = 1)\n",
        "y_train = train_set['MEDV'].copy()\n",
        "y_train = y_train/100000\n",
        "\n",
        "X_valid = validation_set.drop(\"MEDV\", axis=1) # drop label\n",
        "y_valid = validation_set[\"MEDV\"].copy()\n",
        "y_valid = y_valid / 100000;"
      ],
      "execution_count": null,
      "outputs": []
    },
    {
      "cell_type": "code",
      "metadata": {
        "id": "Hjs71n1PiXuV"
      },
      "source": [
        "from sklearn.pipeline import Pipeline\n",
        "from sklearn.preprocessing import StandardScaler\n",
        "from sklearn.impute import SimpleImputer\n",
        "pipeline = Pipeline([('imputer', SimpleImputer(strategy = \"median\")), ('std_scaler', StandardScaler()),])\n",
        "X_train = pipeline.fit_transform(X_train)"
      ],
      "execution_count": null,
      "outputs": []
    },
    {
      "cell_type": "code",
      "metadata": {
        "colab": {
          "base_uri": "https://localhost:8080/"
        },
        "id": "t776br3mjl3Z",
        "outputId": "27b754dc-f2b3-46b6-b934-c1a48ff4ad19"
      },
      "source": [
        "X_valid = pipeline.transform(X_valid)\n",
        "X_valid.shape"
      ],
      "execution_count": null,
      "outputs": [
        {
          "output_type": "execute_result",
          "data": {
            "text/plain": [
              "(102, 13)"
            ]
          },
          "metadata": {},
          "execution_count": 13
        }
      ]
    },
    {
      "cell_type": "markdown",
      "metadata": {
        "id": "8ExMZjJgaZ7j"
      },
      "source": [
        "## Step 5: Model Selection\n",
        "You should use (at the minimum) the basic ML models which we’ve covered: `LinearRegression`, `DecisionTreeRegressor`, `RandomForestRegressor`. Then, you should do some Researching and trying some configuration of an Artificial Neural Networks as a `Sequential` model. For regression task, you do not need to use `softmax` function before producing the output of the network.You may use `RMSE` as the performance measure.\n",
        "\n",
        "You must use 5-fold CV on the validation set to evaluate the performance of your models (hint: use the `\n"
      ]
    },
    {
      "cell_type": "code",
      "metadata": {
        "id": "Pr1t7SG-kRFW"
      },
      "source": [
        "import sklearn\n",
        "import tensorflow as tf\n",
        "import tensorflow.keras as keras"
      ],
      "execution_count": null,
      "outputs": []
    },
    {
      "cell_type": "code",
      "metadata": {
        "colab": {
          "base_uri": "https://localhost:8080/"
        },
        "id": "cFtGYEdwdWvY",
        "outputId": "0e25f0ec-23bb-4c4e-ac3b-a629defd606d"
      },
      "source": [
        "y_valid.shape"
      ],
      "execution_count": null,
      "outputs": [
        {
          "output_type": "execute_result",
          "data": {
            "text/plain": [
              "(102,)"
            ]
          },
          "metadata": {},
          "execution_count": 15
        }
      ]
    },
    {
      "cell_type": "code",
      "metadata": {
        "colab": {
          "base_uri": "https://localhost:8080/"
        },
        "id": "YQGwiGomf7ml",
        "outputId": "50466a81-e812-4473-f228-e432414167b5"
      },
      "source": [
        "X_valid.shape"
      ],
      "execution_count": null,
      "outputs": [
        {
          "output_type": "execute_result",
          "data": {
            "text/plain": [
              "(102, 13)"
            ]
          },
          "metadata": {},
          "execution_count": 16
        }
      ]
    },
    {
      "cell_type": "markdown",
      "metadata": {
        "id": "5xakc43_l5dw"
      },
      "source": [
        "ANN Sequential Model Below"
      ]
    },
    {
      "cell_type": "code",
      "metadata": {
        "id": "_NOmTVWvkaJU"
      },
      "source": [
        "from keras import backend\n",
        "def rmse(y_true, y_pred):\n",
        "  return keras.backend.sqrt(backend.mean(backend.square(y_pred - y_true), axis=-1))"
      ],
      "execution_count": null,
      "outputs": []
    },
    {
      "cell_type": "code",
      "metadata": {
        "id": "waI2JEldacQF",
        "colab": {
          "base_uri": "https://localhost:8080/"
        },
        "outputId": "ed4031be-8c0f-46a2-8139-ffa2f42b251a"
      },
      "source": [
        "model_1 = keras.Sequential(); # Create the most widely used form of neural network: sequential one\n",
        "model_1.add(keras.layers.Dense(13, activation='relu', input_shape=[13]))\n",
        "model_1.add(keras.layers.Dense(2, activation='relu', input_shape=[2]))\n",
        "model_1.compile(optimizer='sgd', loss='mean_squared_error', metrics=[rmse])\n",
        "model_1.fit(X_train,y_train,epochs=10,validation_data=(X_valid, y_valid))\n"
      ],
      "execution_count": null,
      "outputs": [
        {
          "output_type": "stream",
          "name": "stdout",
          "text": [
            "Epoch 1/10\n",
            "13/13 [==============================] - 1s 33ms/step - loss: 0.0076 - rmse: 0.0263 - val_loss: 0.0077 - val_rmse: 0.0294\n",
            "Epoch 2/10\n",
            "13/13 [==============================] - 0s 4ms/step - loss: 0.0057 - rmse: 0.0215 - val_loss: 0.0058 - val_rmse: 0.0250\n",
            "Epoch 3/10\n",
            "13/13 [==============================] - 0s 3ms/step - loss: 0.0044 - rmse: 0.0182 - val_loss: 0.0045 - val_rmse: 0.0216\n",
            "Epoch 4/10\n",
            "13/13 [==============================] - 0s 3ms/step - loss: 0.0035 - rmse: 0.0159 - val_loss: 0.0036 - val_rmse: 0.0189\n",
            "Epoch 5/10\n",
            "13/13 [==============================] - 0s 5ms/step - loss: 0.0029 - rmse: 0.0139 - val_loss: 0.0029 - val_rmse: 0.0166\n",
            "Epoch 6/10\n",
            "13/13 [==============================] - 0s 3ms/step - loss: 0.0024 - rmse: 0.0125 - val_loss: 0.0024 - val_rmse: 0.0146\n",
            "Epoch 7/10\n",
            "13/13 [==============================] - 0s 4ms/step - loss: 0.0021 - rmse: 0.0113 - val_loss: 0.0020 - val_rmse: 0.0129\n",
            "Epoch 8/10\n",
            "13/13 [==============================] - 0s 4ms/step - loss: 0.0018 - rmse: 0.0102 - val_loss: 0.0016 - val_rmse: 0.0115\n",
            "Epoch 9/10\n",
            "13/13 [==============================] - 0s 3ms/step - loss: 0.0015 - rmse: 0.0093 - val_loss: 0.0014 - val_rmse: 0.0104\n",
            "Epoch 10/10\n",
            "13/13 [==============================] - 0s 5ms/step - loss: 0.0013 - rmse: 0.0087 - val_loss: 0.0012 - val_rmse: 0.0094\n"
          ]
        },
        {
          "output_type": "execute_result",
          "data": {
            "text/plain": [
              "<keras.callbacks.History at 0x7ff214664850>"
            ]
          },
          "metadata": {},
          "execution_count": 36
        }
      ]
    },
    {
      "cell_type": "markdown",
      "metadata": {
        "id": "qIdtofuLl1m9"
      },
      "source": [
        "Linear Regression below"
      ]
    },
    {
      "cell_type": "code",
      "metadata": {
        "colab": {
          "base_uri": "https://localhost:8080/"
        },
        "id": "aMSGPnstBrnq",
        "outputId": "b1305d40-0183-48a4-c960-c5585306dbe1"
      },
      "source": [
        "from sklearn.linear_model import LinearRegression\n",
        "\n",
        "lin_reg = LinearRegression()\n",
        "lin_reg.fit(X_train, y_train)\n",
        "\n",
        "from sklearn.metrics import mean_squared_error\n",
        "\n",
        "y_pred = lin_reg.predict(X_valid)\n",
        "lin_rmse = np.sqrt(mean_squared_error(y_valid, y_pred))\n",
        "lin_rmse"
      ],
      "execution_count": null,
      "outputs": [
        {
          "output_type": "execute_result",
          "data": {
            "text/plain": [
              "4.928602182665336e-05"
            ]
          },
          "metadata": {},
          "execution_count": 19
        }
      ]
    },
    {
      "cell_type": "markdown",
      "metadata": {
        "id": "fW5EGzmslx-6"
      },
      "source": [
        "Decision Tree Regression below"
      ]
    },
    {
      "cell_type": "code",
      "metadata": {
        "id": "mBZJtdynC7b2",
        "colab": {
          "base_uri": "https://localhost:8080/"
        },
        "outputId": "703c6ec0-f8f0-4a71-a9f9-7401e5107bae"
      },
      "source": [
        "from sklearn.tree import DecisionTreeRegressor\n",
        "\n",
        "tree_reg = DecisionTreeRegressor(max_depth = 6, random_state=42)\n",
        "tree_reg.fit(X_train, y_train)"
      ],
      "execution_count": null,
      "outputs": [
        {
          "output_type": "execute_result",
          "data": {
            "text/plain": [
              "DecisionTreeRegressor(ccp_alpha=0.0, criterion='mse', max_depth=6,\n",
              "                      max_features=None, max_leaf_nodes=None,\n",
              "                      min_impurity_decrease=0.0, min_impurity_split=None,\n",
              "                      min_samples_leaf=1, min_samples_split=2,\n",
              "                      min_weight_fraction_leaf=0.0, presort='deprecated',\n",
              "                      random_state=42, splitter='best')"
            ]
          },
          "metadata": {},
          "execution_count": 20
        }
      ]
    },
    {
      "cell_type": "code",
      "metadata": {
        "colab": {
          "base_uri": "https://localhost:8080/"
        },
        "id": "w3dskL2YlKw9",
        "outputId": "fa93cc4d-5c6b-4ffb-e4b9-a38fc01475b7"
      },
      "source": [
        "y_pred = tree_reg.predict(X_valid)\n",
        "tree_mse = mean_squared_error(y_valid, y_pred)\n",
        "tree_rmse = np.sqrt(tree_mse)\n",
        "tree_rmse"
      ],
      "execution_count": null,
      "outputs": [
        {
          "output_type": "execute_result",
          "data": {
            "text/plain": [
              "8.662876564628667e-05"
            ]
          },
          "metadata": {},
          "execution_count": 21
        }
      ]
    },
    {
      "cell_type": "markdown",
      "metadata": {
        "id": "jn8f-b1JltE6"
      },
      "source": [
        "Random Forest Regression Model below"
      ]
    },
    {
      "cell_type": "code",
      "metadata": {
        "colab": {
          "base_uri": "https://localhost:8080/"
        },
        "id": "Gmdu3CjYlN7J",
        "outputId": "9313954f-3180-4a83-aac1-ba336319db34"
      },
      "source": [
        "from sklearn.ensemble import RandomForestRegressor\n",
        "\n",
        "forest_reg = RandomForestRegressor(n_estimators=100, random_state=42)\n",
        "forest_reg.fit(X_train, y_train)"
      ],
      "execution_count": null,
      "outputs": [
        {
          "output_type": "execute_result",
          "data": {
            "text/plain": [
              "RandomForestRegressor(bootstrap=True, ccp_alpha=0.0, criterion='mse',\n",
              "                      max_depth=None, max_features='auto', max_leaf_nodes=None,\n",
              "                      max_samples=None, min_impurity_decrease=0.0,\n",
              "                      min_impurity_split=None, min_samples_leaf=1,\n",
              "                      min_samples_split=2, min_weight_fraction_leaf=0.0,\n",
              "                      n_estimators=100, n_jobs=None, oob_score=False,\n",
              "                      random_state=42, verbose=0, warm_start=False)"
            ]
          },
          "metadata": {},
          "execution_count": 22
        }
      ]
    },
    {
      "cell_type": "code",
      "metadata": {
        "colab": {
          "base_uri": "https://localhost:8080/"
        },
        "id": "Z4lDxbdKlRNS",
        "outputId": "ef832d91-c948-4859-b04b-a44692e2ef63"
      },
      "source": [
        "y_pred1 = forest_reg.predict(X_valid)\n",
        "for_rmse = np.sqrt(mean_squared_error(y_valid, y_pred1))\n",
        "for_rmse"
      ],
      "execution_count": null,
      "outputs": [
        {
          "output_type": "execute_result",
          "data": {
            "text/plain": [
              "8.676962713415641e-05"
            ]
          },
          "metadata": {},
          "execution_count": 23
        }
      ]
    },
    {
      "cell_type": "markdown",
      "metadata": {
        "id": "FFiwPfmZeK2i"
      },
      "source": [
        "## Step 6: Model Tuning"
      ]
    },
    {
      "cell_type": "markdown",
      "metadata": {
        "id": "-oAS8kFrrPA0"
      },
      "source": [
        "The RMSE for the three linear regression, decision tree, and random forest models each seem to produce a suspiciously low rmse when fit with the validation set. Will have to check each of them for overfitting, so that the models prediction can be replicated on other data as well. (Generalization > Memorization). The Sequential model seemed to hold up pretty well with a small RMSE, and the loss and validation loss did not fluctuate so it likely predicted without overfitting. However, there didn't seem to be much data in the first place and with such a small amount, there is always a greater risk of memorization."
      ]
    },
    {
      "cell_type": "code",
      "metadata": {
        "colab": {
          "base_uri": "https://localhost:8080/"
        },
        "id": "EsImgyBz9lJY",
        "outputId": "86b2781c-4283-42da-8d0e-e34ca6bc0905"
      },
      "source": [
        "model_2 = keras.Sequential(); # Create the most widely used form of neural network: sequential one\n",
        "model_2.add(keras.layers.Dense(13, activation='relu', input_shape=[13]))\n",
        "model_2.add(keras.layers.Dense(8, activation='relu', input_shape=[8]))\n",
        "model_2.add(keras.layers.Dense(2, activation='relu', input_shape=[2]))\n",
        "model_2.compile(optimizer='sgd', loss='mean_squared_error', metrics=[rmse])\n",
        "model_2.fit(X_train,y_train,epochs=10,validation_data=(X_valid, y_valid))"
      ],
      "execution_count": null,
      "outputs": [
        {
          "output_type": "stream",
          "name": "stdout",
          "text": [
            "Epoch 1/10\n",
            "13/13 [==============================] - 0s 14ms/step - loss: 0.1587 - rmse: 0.2864 - val_loss: 0.0740 - val_rmse: 0.1860\n",
            "Epoch 2/10\n",
            "13/13 [==============================] - 0s 5ms/step - loss: 0.0787 - rmse: 0.1858 - val_loss: 0.0419 - val_rmse: 0.1240\n",
            "Epoch 3/10\n",
            "13/13 [==============================] - 0s 3ms/step - loss: 0.0473 - rmse: 0.1315 - val_loss: 0.0282 - val_rmse: 0.0933\n",
            "Epoch 4/10\n",
            "13/13 [==============================] - 0s 4ms/step - loss: 0.0325 - rmse: 0.1014 - val_loss: 0.0208 - val_rmse: 0.0752\n",
            "Epoch 5/10\n",
            "13/13 [==============================] - 0s 3ms/step - loss: 0.0243 - rmse: 0.0837 - val_loss: 0.0162 - val_rmse: 0.0637\n",
            "Epoch 6/10\n",
            "13/13 [==============================] - 0s 3ms/step - loss: 0.0190 - rmse: 0.0714 - val_loss: 0.0129 - val_rmse: 0.0548\n",
            "Epoch 7/10\n",
            "13/13 [==============================] - 0s 3ms/step - loss: 0.0153 - rmse: 0.0614 - val_loss: 0.0106 - val_rmse: 0.0480\n",
            "Epoch 8/10\n",
            "13/13 [==============================] - 0s 5ms/step - loss: 0.0126 - rmse: 0.0539 - val_loss: 0.0089 - val_rmse: 0.0421\n",
            "Epoch 9/10\n",
            "13/13 [==============================] - 0s 3ms/step - loss: 0.0105 - rmse: 0.0477 - val_loss: 0.0076 - val_rmse: 0.0375\n",
            "Epoch 10/10\n",
            "13/13 [==============================] - 0s 5ms/step - loss: 0.0090 - rmse: 0.0428 - val_loss: 0.0065 - val_rmse: 0.0336\n"
          ]
        },
        {
          "output_type": "execute_result",
          "data": {
            "text/plain": [
              "<keras.callbacks.History at 0x7ff21498e150>"
            ]
          },
          "metadata": {},
          "execution_count": 38
        }
      ]
    },
    {
      "cell_type": "code",
      "metadata": {
        "colab": {
          "base_uri": "https://localhost:8080/"
        },
        "id": "vLZoyUCp9uhy",
        "outputId": "951c5302-af78-4e65-c45b-a7a9860ab375"
      },
      "source": [
        "model_2.summary()"
      ],
      "execution_count": null,
      "outputs": [
        {
          "output_type": "stream",
          "name": "stdout",
          "text": [
            "Model: \"sequential_5\"\n",
            "_________________________________________________________________\n",
            "Layer (type)                 Output Shape              Param #   \n",
            "=================================================================\n",
            "dense_15 (Dense)             (None, 13)                182       \n",
            "_________________________________________________________________\n",
            "dense_16 (Dense)             (None, 8)                 112       \n",
            "_________________________________________________________________\n",
            "dense_17 (Dense)             (None, 2)                 18        \n",
            "=================================================================\n",
            "Total params: 312\n",
            "Trainable params: 312\n",
            "Non-trainable params: 0\n",
            "_________________________________________________________________\n"
          ]
        }
      ]
    },
    {
      "cell_type": "code",
      "metadata": {
        "colab": {
          "base_uri": "https://localhost:8080/",
          "height": 422
        },
        "id": "v1mmZzwZ-e38",
        "outputId": "76684946-c786-4db7-e080-08004d33ccf4"
      },
      "source": [
        "keras.utils.plot_model(model_2, show_shapes=True)"
      ],
      "execution_count": null,
      "outputs": [
        {
          "output_type": "execute_result",
          "data": {
            "image/png": "[encoded data removed]",
            "text/plain": [
              "<IPython.core.display.Image object>"
            ]
          },
          "metadata": {},
          "execution_count": 40
        }
      ]
    },
    {
      "cell_type": "code",
      "metadata": {
        "colab": {
          "base_uri": "https://localhost:8080/"
        },
        "id": "JASubHN0a7KT",
        "outputId": "e9983cb0-ab0c-43e1-e939-920b470b259b"
      },
      "source": [
        "model_1.summary()"
      ],
      "execution_count": null,
      "outputs": [
        {
          "output_type": "stream",
          "name": "stdout",
          "text": [
            "Model: \"sequential_1\"\n",
            "_________________________________________________________________\n",
            "Layer (type)                 Output Shape              Param #   \n",
            "=================================================================\n",
            "dense_4 (Dense)              (None, 13)                182       \n",
            "_________________________________________________________________\n",
            "dense_5 (Dense)              (None, 8)                 112       \n",
            "_________________________________________________________________\n",
            "dense_6 (Dense)              (None, 2)                 18        \n",
            "=================================================================\n",
            "Total params: 312\n",
            "Trainable params: 312\n",
            "Non-trainable params: 0\n",
            "_________________________________________________________________\n"
          ]
        }
      ]
    },
    {
      "cell_type": "code",
      "metadata": {
        "colab": {
          "base_uri": "https://localhost:8080/",
          "height": 422
        },
        "id": "gzJB0vv6zXlQ",
        "outputId": "0178dcbe-7e1a-4a80-b9d5-5138f690f80e"
      },
      "source": [
        "keras.utils.plot_model(model_1, show_shapes=True)"
      ],
      "execution_count": null,
      "outputs": [
        {
          "output_type": "execute_result",
          "data": {
            "image/png": "[encoded data removed]",
            "text/plain": [
              "<IPython.core.display.Image object>"
            ]
          },
          "metadata": {},
          "execution_count": 31
        }
      ]
    },
    {
      "cell_type": "code",
      "metadata": {
        "colab": {
          "base_uri": "https://localhost:8080/"
        },
        "id": "GPRqnOStz1l_",
        "outputId": "aab14677-bef9-4b99-c3c0-a7959be5b018"
      },
      "source": [
        "weights, biases = model_1.layers[0].get_weights()\n",
        "weights"
      ],
      "execution_count": null,
      "outputs": [
        {
          "output_type": "execute_result",
          "data": {
            "text/plain": [
              "array([[ 0.41934094, -0.1706781 ,  0.4188403 ,  0.11484299,  0.30448216,\n",
              "         0.34879613,  0.45477876, -0.12499014,  0.05202165, -0.18671733,\n",
              "        -0.06462133, -0.34656855,  0.29578668],\n",
              "       [ 0.3403689 ,  0.4530211 ,  0.10097586, -0.32027665,  0.03722896,\n",
              "        -0.13644153, -0.17302342,  0.45468014, -0.2940437 ,  0.26573637,\n",
              "        -0.23313   ,  0.38624334, -0.4012146 ],\n",
              "       [-0.11901119,  0.1053119 , -0.06353894, -0.46949264, -0.12238028,\n",
              "         0.12855574,  0.05735173,  0.41058993, -0.25143036,  0.07763652,\n",
              "        -0.4153033 , -0.15596254,  0.08880199],\n",
              "       [ 0.3120323 ,  0.09347133,  0.15751553,  0.14125301,  0.3387536 ,\n",
              "         0.09923617, -0.2885303 ,  0.36678934,  0.4380086 ,  0.4466808 ,\n",
              "        -0.30747223,  0.37822455,  0.06156565],\n",
              "       [-0.1503638 , -0.07676173, -0.12228876, -0.30320388,  0.4113197 ,\n",
              "         0.16469292, -0.3254891 , -0.32384604,  0.21751115, -0.439664  ,\n",
              "        -0.04929086,  0.37022525, -0.2981414 ],\n",
              "       [-0.17830914,  0.20532075, -0.27374953, -0.27892032, -0.06309783,\n",
              "         0.2156179 ,  0.18409897, -0.20964614,  0.34810427,  0.38350192,\n",
              "         0.09262379, -0.09302805, -0.41677907],\n",
              "       [-0.00351194, -0.09966471,  0.14021775, -0.27630222, -0.22583157,\n",
              "         0.28694385,  0.01258102,  0.09007973, -0.17939687,  0.30510294,\n",
              "        -0.2658716 ,  0.14713696,  0.3030752 ],\n",
              "       [ 0.02027118, -0.17560314, -0.1696282 , -0.43607977, -0.39046222,\n",
              "         0.24547015,  0.11525778, -0.10915744, -0.4719495 , -0.19430152,\n",
              "         0.4264195 , -0.20695749, -0.30161306],\n",
              "       [-0.38080478, -0.39088604, -0.05509358, -0.42498744,  0.39647114,\n",
              "         0.3878302 ,  0.29764718,  0.32445   , -0.4460417 ,  0.39421588,\n",
              "         0.37129533,  0.41600743,  0.387652  ],\n",
              "       [ 0.05689323, -0.44045812,  0.07658732, -0.30842894,  0.10972047,\n",
              "        -0.3291464 ,  0.4622332 ,  0.04290802, -0.23860097, -0.05727395,\n",
              "         0.13506141,  0.2958246 ,  0.42677635],\n",
              "       [-0.4784319 ,  0.21629897, -0.35277012, -0.00511108, -0.37715706,\n",
              "         0.0317083 , -0.00162863, -0.10444346, -0.26724175, -0.1268653 ,\n",
              "         0.44832438, -0.19374649, -0.31811026],\n",
              "       [-0.15423556, -0.12891687,  0.00782462, -0.06343794,  0.16457781,\n",
              "        -0.06387559,  0.43958202, -0.2664557 ,  0.47961912, -0.00111166,\n",
              "        -0.4678188 ,  0.21246675, -0.15249218],\n",
              "       [ 0.06893523, -0.23807827,  0.10591402,  0.21165553,  0.0039368 ,\n",
              "         0.04275171,  0.08966795, -0.06262967,  0.4518545 , -0.10794085,\n",
              "         0.06012635,  0.06856317, -0.16594261]], dtype=float32)"
            ]
          },
          "metadata": {},
          "execution_count": 26
        }
      ]
    },
    {
      "cell_type": "code",
      "metadata": {
        "colab": {
          "base_uri": "https://localhost:8080/"
        },
        "id": "AAgk0_C-z9Lt",
        "outputId": "6e4a550a-83e7-44d7-d412-2119487c1a6a"
      },
      "source": [
        "biases"
      ],
      "execution_count": null,
      "outputs": [
        {
          "output_type": "execute_result",
          "data": {
            "text/plain": [
              "array([ 0.0046394 , -0.00294204,  0.00111207, -0.00069396,  0.00339714,\n",
              "       -0.0031255 , -0.00126102, -0.00839707,  0.00036514, -0.011881  ,\n",
              "        0.00330372,  0.00138199, -0.00241577], dtype=float32)"
            ]
          },
          "metadata": {},
          "execution_count": 27
        }
      ]
    },
    {
      "cell_type": "markdown",
      "metadata": {
        "id": "iBCGZYop4BBa"
      },
      "source": [
        "Not much to analyze with the weights and biases. They are more so for interpreting the connection from input to output of each layer."
      ]
    },
    {
      "cell_type": "code",
      "metadata": {
        "colab": {
          "base_uri": "https://localhost:8080/",
          "height": 1000
        },
        "id": "qwPcJG1K0tYk",
        "outputId": "1f345772-bfce-438c-f3c4-a08403c6cc19"
      },
      "source": [
        "history = model_2.fit(X_train, y_train, epochs=20, validation_data=(X_valid, y_valid))\n",
        "pd.DataFrame(history.history).plot(figsize=(8, 5))\n",
        "plt.grid(True)\n",
        "plt.gca().set_ylim(0, 1)\n",
        "plt.show()"
      ],
      "execution_count": null,
      "outputs": [
        {
          "output_type": "stream",
          "name": "stdout",
          "text": [
            "Epoch 1/20\n",
            "13/13 [==============================] - 0s 6ms/step - loss: 0.0078 - rmse: 0.0383 - val_loss: 0.0057 - val_rmse: 0.0306\n",
            "Epoch 2/20\n",
            "13/13 [==============================] - 0s 3ms/step - loss: 0.0068 - rmse: 0.0349 - val_loss: 0.0051 - val_rmse: 0.0282\n",
            "Epoch 3/20\n",
            "13/13 [==============================] - 0s 5ms/step - loss: 0.0061 - rmse: 0.0318 - val_loss: 0.0046 - val_rmse: 0.0260\n",
            "Epoch 4/20\n",
            "13/13 [==============================] - 0s 3ms/step - loss: 0.0054 - rmse: 0.0295 - val_loss: 0.0041 - val_rmse: 0.0242\n",
            "Epoch 5/20\n",
            "13/13 [==============================] - 0s 3ms/step - loss: 0.0049 - rmse: 0.0274 - val_loss: 0.0037 - val_rmse: 0.0226\n",
            "Epoch 6/20\n",
            "13/13 [==============================] - 0s 3ms/step - loss: 0.0045 - rmse: 0.0255 - val_loss: 0.0034 - val_rmse: 0.0212\n",
            "Epoch 7/20\n",
            "13/13 [==============================] - 0s 3ms/step - loss: 0.0041 - rmse: 0.0241 - val_loss: 0.0031 - val_rmse: 0.0198\n",
            "Epoch 8/20\n",
            "13/13 [==============================] - 0s 4ms/step - loss: 0.0038 - rmse: 0.0227 - val_loss: 0.0028 - val_rmse: 0.0187\n",
            "Epoch 9/20\n",
            "13/13 [==============================] - 0s 3ms/step - loss: 0.0035 - rmse: 0.0215 - val_loss: 0.0026 - val_rmse: 0.0177\n",
            "Epoch 10/20\n",
            "13/13 [==============================] - 0s 3ms/step - loss: 0.0032 - rmse: 0.0203 - val_loss: 0.0024 - val_rmse: 0.0167\n",
            "Epoch 11/20\n",
            "13/13 [==============================] - 0s 5ms/step - loss: 0.0030 - rmse: 0.0194 - val_loss: 0.0022 - val_rmse: 0.0159\n",
            "Epoch 12/20\n",
            "13/13 [==============================] - 0s 3ms/step - loss: 0.0028 - rmse: 0.0184 - val_loss: 0.0021 - val_rmse: 0.0152\n",
            "Epoch 13/20\n",
            "13/13 [==============================] - 0s 4ms/step - loss: 0.0026 - rmse: 0.0176 - val_loss: 0.0019 - val_rmse: 0.0145\n",
            "Epoch 14/20\n",
            "13/13 [==============================] - 0s 5ms/step - loss: 0.0025 - rmse: 0.0168 - val_loss: 0.0018 - val_rmse: 0.0138\n",
            "Epoch 15/20\n",
            "13/13 [==============================] - 0s 4ms/step - loss: 0.0023 - rmse: 0.0161 - val_loss: 0.0017 - val_rmse: 0.0132\n",
            "Epoch 16/20\n",
            "13/13 [==============================] - 0s 4ms/step - loss: 0.0022 - rmse: 0.0154 - val_loss: 0.0016 - val_rmse: 0.0127\n",
            "Epoch 17/20\n",
            "13/13 [==============================] - 0s 4ms/step - loss: 0.0021 - rmse: 0.0148 - val_loss: 0.0015 - val_rmse: 0.0122\n",
            "Epoch 18/20\n",
            "13/13 [==============================] - 0s 3ms/step - loss: 0.0020 - rmse: 0.0143 - val_loss: 0.0014 - val_rmse: 0.0117\n",
            "Epoch 19/20\n",
            "13/13 [==============================] - 0s 3ms/step - loss: 0.0019 - rmse: 0.0137 - val_loss: 0.0013 - val_rmse: 0.0113\n",
            "Epoch 20/20\n",
            "13/13 [==============================] - 0s 5ms/step - loss: 0.0018 - rmse: 0.0132 - val_loss: 0.0013 - val_rmse: 0.0109\n"
          ]
        },
        {
          "output_type": "display_data",
          "data": {
            "image/png": "[encoded data removed]",
            "text/plain": [
              "<Figure size 576x360 with 1 Axes>"
            ]
          },
          "metadata": {
            "needs_background": "light"
          }
        }
      ]
    },
    {
      "cell_type": "markdown",
      "metadata": {
        "id": "JEqneFpj-rH5"
      },
      "source": [
        "Even with a doubled amount of epochs there seems to be no obvious indication of overfitting and performance with this model_2 still has an exceptional root mean square error. "
      ]
    },
    {
      "cell_type": "markdown",
      "metadata": {
        "id": "K3YvBnpUeSEH"
      },
      "source": [
        "## Step 7: Solution Presentation\n",
        "Now that you need to write a short memo of one paragraph to be read by a non-technical audience (ie. your manager/supervisor). Focus on answering the following: \n",
        "\n",
        "* How can you pitch your solution to this project? \n",
        "* What did you learn so far about the problem?\n",
        "* Is there any insight moving forward to improve the solution?"
      ]
    },
    {
      "cell_type": "markdown",
      "metadata": {
        "id": "GPAI81krfPOr"
      },
      "source": [
        "With this project we were able to perform a regression prediction on the Boston housing market based off of variables including crime rate, land zone square footage, industry presence, tax rate and several other attributes. Given any data for the above 13 independent variables, we are able to produce an accurate prediciton for what the housing price might be. The four models that were used for this prediction were an Artificial Neural Network Sequantial model, a Linear Regression model, a Decision-Tree model, and a Random-Forest model. The sequential model was the model that didn't necessarily overfit, as the three other models had an unrealistically low, which means they were likely susceptible to overfitting. The sequential model however perhaps didn't overfit as there was no fluctuation in loss/validation loss and additionally, the root mean square error was very low, meaning that the regression was pretty accurate. From this problem, I learned the basics of implementing a regression model and preparing the data for actual analysis. The step of cleaning the data was very useful and will be very important as I go forward. There is definitely a need for more data, in order to move forward with any particular model here. Having right around 500 data points does not seem like enough to make anything too meaningful for consistent or commercial use. "
      ]
    },
    {
      "cell_type": "markdown",
      "metadata": {
        "id": "HrRRoBcWeVju"
      },
      "source": [
        "## Step 8: Model Launching, Monitoring, and Updating\n",
        "You don't need to do anything for this step. However, in the real-world, this is a iterative process where you launch, monitor, update your model (on the cloud).\n",
        "\n",
        "In case you get stuck in any step in the process, you may find some useful information from:\n",
        "\n",
        " * Consult my slides and/or the textbook\n",
        " * Talk to the TA, they are available and there to help you during her office hours (Wed and Sun)\n",
        " * Come talk to me or email me <nn4pj@virginia.edu> with subject starting \"CS2501 Assignment 1:...\".\n",
        "\n",
        "Best of luck and have fun!"
      ]
    },
    {
      "cell_type": "code",
      "metadata": {
        "id": "Tzpq8NedeU-m"
      },
      "source": [
        ""
      ],
      "execution_count": null,
      "outputs": []
    }
  ]
}